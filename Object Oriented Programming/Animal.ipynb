{
 "cells": [
  {
   "cell_type": "code",
   "execution_count": null,
   "metadata": {},
   "outputs": [],
   "source": [
    "class Animal:\n",
    "    def __init__(self, category, breed, size, age, color):\n",
    "        self.category = category\n",
    "        self.breed = breed\n",
    "        self.size = size\n",
    "        self.age = age\n",
    "        self.color = color\n",
    "\n",
    "    def eat(self):\n",
    "        return f\"{self.category} is eating.\"\n",
    "\n",
    "    def sleep(self):\n",
    "        return f\"{self.category} is sleeping.\"\n",
    "\n",
    "    def sit(self):\n",
    "        return f\"{self.category} is sitting.\"\n",
    "\n",
    "    def run(self):\n",
    "        return f\"{self.category} is running.\""
   ]
  }
 ],
 "metadata": {
  "language_info": {
   "name": "python"
  }
 },
 "nbformat": 4,
 "nbformat_minor": 2
}
