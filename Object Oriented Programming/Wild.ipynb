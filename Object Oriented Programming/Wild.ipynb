{
 "cells": [
  {
   "cell_type": "code",
   "execution_count": null,
   "metadata": {},
   "outputs": [],
   "source": [
    "# wild.py\n",
    "from animal import Animal  # Import the Animal class\n",
    "\n",
    "class Wild(Animal):\n",
    "    def __init__(self, category, breed, size, age, color, jungle_name):\n",
    "        super().__init__(category, breed, size, age, color)\n",
    "        self.jungle_name = jungle_name\n",
    "\n",
    "    def kill(self):\n",
    "        return f\"{self.category} in {self.jungle_name} is hunting.\"\n",
    "\n",
    "    def hunt(self):\n",
    "        return f\"{self.category} in {self.jungle_name} is hunting prey.\"\n"
   ]
  }
 ],
 "metadata": {
  "language_info": {
   "name": "python"
  }
 },
 "nbformat": 4,
 "nbformat_minor": 2
}
