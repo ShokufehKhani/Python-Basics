{
 "cells": [
  {
   "cell_type": "code",
   "execution_count": null,
   "metadata": {},
   "outputs": [],
   "source": [
    "# main.py\n",
    "from pet import Pet\n",
    "from wild import Wild\n",
    "\n",
    "# Example Usage:\n",
    "pet_dog = Pet(\"Dog\", \"Labrador\", \"Medium\", 3, \"Golden\", \"Buddy\", \"John\", \"12345\")\n",
    "wild_tiger = Wild(\"Tiger\", \"Bengal\", \"Large\", 5, \"Orange\", \"Amazon Rainforest\")\n",
    "\n",
    "print(pet_dog.eat())\n",
    "print(wild_tiger.run())\n",
    "print(pet_dog.hug())\n",
    "print(wild_tiger.hunt())\n"
   ]
  }
 ],
 "metadata": {
  "language_info": {
   "name": "python"
  }
 },
 "nbformat": 4,
 "nbformat_minor": 2
}
