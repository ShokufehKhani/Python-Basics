{
 "cells": [
  {
   "cell_type": "code",
   "execution_count": null,
   "metadata": {},
   "outputs": [],
   "source": [
    "# pet.py\n",
    "from animal import Animal  # Import the Animal class\n",
    "\n",
    "class Pet(Animal):\n",
    "    def __init__(self, category, breed, size, age, color, name, owner, health_card_num):\n",
    "        super().__init__(category, breed, size, age, color)\n",
    "        self.name = name\n",
    "        self.owner = owner\n",
    "        self.health_card_num = health_card_num\n",
    "\n",
    "    def hug(self):\n",
    "        return f\"{self.name} is giving a hug.\"\n",
    "\n",
    "    def bring(self):\n",
    "        return f\"{self.name} is bringing something.\"\n"
   ]
  }
 ],
 "metadata": {
  "language_info": {
   "name": "python"
  }
 },
 "nbformat": 4,
 "nbformat_minor": 2
}
